{
  "nbformat": 4,
  "nbformat_minor": 0,
  "metadata": {
    "colab": {
      "name": "Untitled7.ipynb",
      "provenance": []
    },
    "kernelspec": {
      "name": "python3",
      "display_name": "Python 3"
    }
  },
  "cells": [
    {
      "cell_type": "code",
      "metadata": {
        "id": "yvloA87EqaxN"
      },
      "source": [
        "\r\n",
        "import csv\r\n",
        "\r\n",
        "with open('iris.data.txt', 'r') as csvfile:\r\n",
        "    lines = csv.reader(csvfile)\r\n",
        "    for row in lines :\r\n",
        "        print(', '.join(row))"
      ],
      "execution_count": null,
      "outputs": []
    },
    {
      "cell_type": "code",
      "metadata": {
        "id": "wEaFDw3bqoU2"
      },
      "source": [
        "import random\r\n",
        "\r\n",
        "def loadDataset(filename, split):\r\n",
        "    trainingSet = []\r\n",
        "    testSet = []\r\n",
        "    with open(filename, 'r') as csvfile:\r\n",
        "        lines = csv.reader(csvfile)\r\n",
        "        dataset = list(lines)\r\n",
        "        for x in range(len(dataset)-1):\r\n",
        "            for y in range(4):\r\n",
        "                dataset[x][y] = float(dataset[x][y]) \r\n",
        "            if random.random() < split:\r\n",
        "                trainingSet.append(dataset[x])\r\n",
        "            else:\r\n",
        "                testSet.append(dataset[x])     \r\n",
        "        return trainingSet, testSet"
      ],
      "execution_count": null,
      "outputs": []
    },
    {
      "cell_type": "code",
      "metadata": {
        "id": "LKQEcWc2qsN0"
      },
      "source": [
        "trainingSet=[]\r\n",
        "testSet=[]\r\n",
        "\r\n",
        "print ('Train: '+ repr(len(trainingSet)))\r\n",
        "print ('Test: ' + repr(len(testSet)) )"
      ],
      "execution_count": null,
      "outputs": []
    },
    {
      "cell_type": "code",
      "metadata": {
        "id": "rBOHeMiEqudk"
      },
      "source": [
        "import math\r\n",
        "\r\n",
        "def euclideanDistance(instance1, instance2, length):\r\n",
        "    distance = 0 \r\n",
        "    for x in range(length): \r\n",
        "        distance += pow((instance1[x] - instance2[x]), 2) \r\n",
        "    return math.sqrt(distance)"
      ],
      "execution_count": null,
      "outputs": []
    },
    {
      "cell_type": "code",
      "metadata": {
        "id": "carlqO2LqxnP"
      },
      "source": [
        "data1 = [2, 2, 2, 'a']\r\n",
        "data2 = [4, 4, 4, 'b']\r\n",
        "distance = euclideanDistance(data1, data2, 3)\r\n",
        "\r\n",
        "print ('Distance: '+ repr(distance))"
      ],
      "execution_count": null,
      "outputs": []
    },
    {
      "cell_type": "code",
      "metadata": {
        "id": "NoeszcYFq0yb"
      },
      "source": [
        "from scipy.spatial.distance import cosine\r\n",
        "\r\n",
        "def cosinedistance (instance1, instance2):\r\n",
        "    p1 = instance1[:-1]\r\n",
        "    p2 = instance2[:-1]\r\n",
        "    return cosine(p1, p2)"
      ],
      "execution_count": null,
      "outputs": []
    },
    {
      "cell_type": "code",
      "metadata": {
        "id": "0KHgyVXvq3aP"
      },
      "source": [
        "import operator\r\n",
        "\r\n",
        "def getNeighbors(trainingSet, testInstance, k, cosine_distance=False):\r\n",
        "    distances = []\r\n",
        "    length = len(testInstance)-1\r\n",
        "    for x in range(len(trainingSet)):\r\n",
        "        if cosine_distance:\r\n",
        "            dist = cosinedistance(testInstance, trainingSet[x])\r\n",
        "            distances.append((trainingSet[x], dist))\r\n",
        "        else:\r\n",
        "            dist = euclideanDistance(testInstance, trainingSet[x], length)\r\n",
        "            distances.append((trainingSet[x], dist))\r\n",
        "\r\n",
        "    distances.sort(key=operator.itemgetter(1))\r\n",
        "    neighbors = []\r\n",
        "\r\n",
        "    for x in range(k):\r\n",
        "        neighbors.append(distances[x][0])\r\n",
        "\r\n",
        "    return neighbors"
      ],
      "execution_count": null,
      "outputs": []
    },
    {
      "cell_type": "code",
      "metadata": {
        "id": "nBcmTMwjq7o-"
      },
      "source": [
        "\r\n",
        "trainSet = [[2, 2, 2, 'a'], [4, 4, 4, 'b']]\r\n",
        "testInstance = [5, 5, 5]\r\n",
        "k = 1\r\n",
        "neighbors = getNeighbors(trainSet, testInstance, 1)\r\n",
        "\r\n",
        "print(neighbors)"
      ],
      "execution_count": null,
      "outputs": []
    },
    {
      "cell_type": "code",
      "metadata": {
        "id": "wWC5hvVdq9ty"
      },
      "source": [
        "import operator\r\n",
        "\r\n",
        "def getResponse(neighbors):\r\n",
        "    classVotes = {}\r\n",
        "    for x in range(len(neighbors)):\r\n",
        "        response = neighbors[x][-1] \r\n",
        "        if response in classVotes:\r\n",
        "              classVotes[response] += 1\r\n",
        "        else:\r\n",
        "            classVotes[response] = 1\r\n",
        "    sortedVotes = sorted(classVotes.items(), key=operator.itemgetter(1), reverse=True)\r\n",
        "    return sortedVotes[0][0]"
      ],
      "execution_count": null,
      "outputs": []
    },
    {
      "cell_type": "code",
      "metadata": {
        "id": "gjRJYPgqrAws"
      },
      "source": [
        "neighbors = [[1,1,1,'a'], [2,2,2,'a'], [3,3,3,'b']]\r\n",
        "response = getResponse(neighbors)\r\n",
        "\r\n",
        "print(response)"
      ],
      "execution_count": null,
      "outputs": []
    },
    {
      "cell_type": "code",
      "metadata": {
        "id": "54MozdzerDaC"
      },
      "source": [
        "def getAccuracy(testSet, predictions):\r\n",
        "    correct = 0\r\n",
        "    for x in range(len(testSet)):\r\n",
        "        if testSet[x][-1] == predictions[x]:\r\n",
        "            correct += 1\r\n",
        "    return (correct/float(len(testSet))) * 100.0"
      ],
      "execution_count": null,
      "outputs": []
    },
    {
      "cell_type": "code",
      "metadata": {
        "id": "fYgl-3_-rGeR"
      },
      "source": [
        "testSet = [[1,1,1,'a'], [2,2,2,'a'], [3,3,3,'b']]\r\n",
        "predictions = ['a', 'a', 'a']\r\n",
        "accuracy = getAccuracy(testSet, predictions)\r\n",
        "\r\n",
        "print(accuracy)"
      ],
      "execution_count": null,
      "outputs": []
    },
    {
      "cell_type": "code",
      "metadata": {
        "id": "7DiDVp7LrJAf"
      },
      "source": [
        "\r\n",
        "def main(cosine_distance=False):\r\n",
        "    # prepare data\r\n",
        "    split = 0.67\r\n",
        "    trainingSet, testSet = loadDataset('iris.data.txt', split)\r\n",
        "    print('Train set: ' + repr(len(trainingSet)))\r\n",
        "    print('Test set: ' + repr(len(testSet)))\r\n",
        "    # generate predictions\r\n",
        "    predictions = []\r\n",
        "    k = 3\r\n",
        "\r\n",
        "    if cosine_distance:\r\n",
        "        for x in range(len(testSet)):\r\n",
        "            neighbors = getNeighbors(trainingSet, testSet[x], k)\r\n",
        "            result = getResponse(neighbors)\r\n",
        "            predictions.append(result)\r\n",
        "            print('> predicted=' + repr(result) + ', actual=' + repr(testSet[x][-1]))\r\n",
        "        accuracy = getAccuracy(testSet, predictions)\r\n",
        "        \r\n",
        "        print('Accuracy for Cosine Distance is: ' + repr(accuracy) + '%')\r\n",
        "    \r\n",
        "    else:\r\n",
        "        for x in range(len(testSet)):\r\n",
        "            neighbors = getNeighbors(trainingSet, testSet[x], k)\r\n",
        "            result = getResponse(neighbors)\r\n",
        "            predictions.append(result)\r\n",
        "            print('> predicted=' + repr(result) + ', actual=' + repr(testSet[x][-1]))\r\n",
        "        accuracy = getAccuracy(testSet, predictions)\r\n",
        "        print('Accuracy fot Euclidean Distance: ' + repr(accuracy) + '%')\r\n",
        "\r\n",
        "\r\n",
        "main()\r\n",
        "main(cosine_distance=True)"
      ],
      "execution_count": null,
      "outputs": []
    },
    {
      "cell_type": "code",
      "metadata": {
        "id": "whW28W8QrM4u"
      },
      "source": [
        ""
      ],
      "execution_count": null,
      "outputs": []
    }
  ]
}